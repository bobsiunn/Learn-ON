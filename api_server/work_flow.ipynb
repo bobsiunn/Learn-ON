{
 "cells": [
  {
   "cell_type": "markdown",
   "metadata": {},
   "source": [
    "### 영상 s3에 업로드"
   ]
  },
  {
   "cell_type": "code",
   "execution_count": 98,
   "metadata": {},
   "outputs": [],
   "source": [
    "import logging\n",
    "import boto3\n",
    "from botocore.exceptions import ClientError\n",
    "\n",
    "file_name = \"./input_video/videoplayback.mp4\"\n",
    "\n",
    "\n",
    "def upload_file(file_name, bucket, object_name=None):\n",
    "    # If S3 object_name was not specified, use file_name\n",
    "    if object_name is None:\n",
    "        object_name = file_name\n",
    "\n",
    "    # Upload the file\n",
    "    s3_client = boto3.client('s3')\n",
    "    try:\n",
    "        response = s3_client.upload_file(file_name, bucket, object_name)\n",
    "    except ClientError as e:\n",
    "        logging.error(e)\n",
    "        return False\n",
    "    return True"
   ]
  },
  {
   "cell_type": "code",
   "execution_count": 105,
   "metadata": {},
   "outputs": [],
   "source": [
    "s3 = boto3.client('s3')\n",
    "with open(file_name, \"rb\") as f:\n",
    "    s3.upload_fileobj(f, \"kpmg-gobongbob\", file_name[2:])"
   ]
  },
  {
   "cell_type": "markdown",
   "metadata": {},
   "source": [
    "### 영상에서 text 추출"
   ]
  },
  {
   "cell_type": "code",
   "execution_count": 108,
   "metadata": {},
   "outputs": [
    {
     "name": "stdout",
     "output_type": "stream",
     "text": [
      "https://kpmg-gobongbob.s3.us-east-2.amazonaws.com/input_video/videoplayback.mp4\n",
      "Not ready yet...\n",
      "Not ready yet...\n",
      "Not ready yet...\n",
      "Not ready yet...\n",
      "Not ready yet...\n",
      "Not ready yet...\n",
      "Not ready yet...\n",
      "Not ready yet...\n",
      "Not ready yet...\n",
      "Not ready yet...\n",
      "Not ready yet...\n",
      "Not ready yet...\n",
      "Not ready yet...\n",
      "this video is going to explain how to find inflection points on a graph. So let's suppose we have a graph. So here's a nice graph. This is the function f of T independent variable T and were asked to find What are the inflection points? Well, remember, inflection points are places where the con cavity changes, so it's a good idea to remember what Con cavity is. So for con cavity, we have con cave up where the graph is turning up or con cave down where the graph is turning down. So in order to figure out where the con cavity changes, we need to figure out where what the con cavity is and where it's con cave up and where it's Khan came down. So let's start from left to right. We started on the left hand side. We look at this function. Looks like this function is con cave up. So we're turning upwards now at some point, and that's the inflection point. We start to turn downwards so you can see along here getting red. I'm turning downwards, whereas before, up until the red part, I was turning upwards. Okay, Now the changes where the inflection point is that change Looks like it's about right here. So what you have to imagine is you sort of turn your screen sideways and you're a race car that's racing down this road and you're turning left. You keep turning left. That means you're Khan gave up and eventually you turn your race car to the right In your race cars, you're traveling from left to right. And as we turn to the right here, we're going con cave down and then we can Are we continue along our highway or highway takes a turn to the left. That means we're con cave up until we get to while we keep turning until we get to about right here where we start turning to the right So this red is indicating returning to the right. We keep turning right as we move down the road until maybe about right here where we start turning left again And so we're We're along this red segment of the road where con cave down We're turning down or if you like, we're turning to the right as we go along this particular road from left to right and then we start turning up again, turning to the left until maybe somewhere around here where that we have a nuke turn in the road and the road turns to the right. So the white here is turning to the left or con cave up. We have an inflection point at this green point here. That's where the con cavity changes where we change the direction into which were turning. We're no longer turning up. We're turning down con cave down. Then we have another inflection point where now we're turning up. We have an inflection point here because now we're going to turn down. Then we start turning up again. Then we turned down So these green points of the places where we change the direction in which returning and the white along the white intervals were turning up along the red intervals were turning down. So these, in fact, are the inflection points. These are the places where we change the direction in which returning. So in this case it looks like there are altogether five inflection points. Those are the places where the can cavity changes\n"
     ]
    }
   ],
   "source": [
    "from __future__ import print_function\n",
    "import time\n",
    "import boto3\n",
    "import pandas as pd\n",
    "\n",
    "transcribe = boto3.client('transcribe')\n",
    "job_uri = \"https://kpmg-gobongbob.s3.us-east-2.amazonaws.com/input_video/\"+file_name[14:]\n",
    "print(job_uri)\n",
    "job_name = job_uri[62:].rstrip(\".mp4\")\n",
    "\n",
    "transcribe.start_transcription_job(\n",
    "    TranscriptionJobName=job_name,\n",
    "    Media={'MediaFileUri': job_uri},\n",
    "    MediaFormat='mp4',\n",
    "    LanguageCode='en-US'\n",
    ")\n",
    "\n",
    "while True:\n",
    "    result = transcribe.get_transcription_job(TranscriptionJobName=job_name)\n",
    "    if result['TranscriptionJob']['TranscriptionJobStatus'] in ['COMPLETED', 'FAILED']:\n",
    "        break\n",
    "    print(\"Not ready yet...\")\n",
    "    time.sleep(5)\n",
    "\n",
    "if result['TranscriptionJob']['TranscriptionJobStatus'] == \"COMPLETED\":\n",
    "    data = pd.read_json(result['TranscriptionJob']\n",
    "                        ['Transcript']['TranscriptFileUri'])\n",
    "\n",
    "print(data['results'][1][0]['transcript'])"
   ]
  },
  {
   "cell_type": "code",
   "execution_count": 258,
   "metadata": {},
   "outputs": [],
   "source": [
    "items = data['results'][\"items\"]\n",
    "\n",
    "times = list(i[\"start_time\"] for i in items if i[\"type\"] != 'punctuation')\n",
    "words = list(i['alternatives'][0]['content'] for i in items if i[\"type\"] != 'punctuation')\n",
    "\n",
    "#dict로 합치면 앞의 데이터가 날라감"
   ]
  },
  {
   "cell_type": "markdown",
   "metadata": {},
   "source": [
    "### text에서 keyword 추출\n",
    "- key idea: 연속적인 단어를 추출하기 위해서 첫번째 단어를 기준으로 하여 다음 리스트에 그 단어의 다음 단어가 존재하면 1을 반환, 아니면 0을 반환하고 break 한다. \n",
    "- 전체가 다 존재하면 간단하게 전체의 곱이 1이 될 것이고, 하나라도 충족하지 않으면, 0이 반환된다는 것에 중점을 맞춘다."
   ]
  },
  {
   "cell_type": "code",
   "execution_count": 259,
   "metadata": {},
   "outputs": [],
   "source": [
    "result = data['results'][1][0]['transcript']"
   ]
  },
  {
   "cell_type": "code",
   "execution_count": 260,
   "metadata": {},
   "outputs": [
    {
     "name": "stdout",
     "output_type": "stream",
     "text": [
      "['a nice graph', 'T independent variable T', 'this video', 'the inflection points', 'places', 'inflection points', 'the function f', 'a graph']\n"
     ]
    }
   ],
   "source": [
    "comprehend = boto3.client('comprehend')\n",
    "\n",
    "response = comprehend.detect_key_phrases(\n",
    "    Text=result,\n",
    "    LanguageCode='en'\n",
    ")\n",
    "\n",
    "results = list()\n",
    "for i in range(10):\n",
    "    results.append(response[\"KeyPhrases\"][i][\"Text\"])\n",
    "    \n",
    "    \n",
    "results = list(set(results))\n",
    "print(results)"
   ]
  },
  {
   "cell_type": "code",
   "execution_count": 261,
   "metadata": {},
   "outputs": [
    {
     "name": "stdout",
     "output_type": "stream",
     "text": [
      "[['a nice graph', [12, 19, 23, 59, 227, 295, 416], [24], [13, 20, 25, 79, 89]], ['T independent variable T', [32, 35], [33], [34], [32, 35]], ['this video', [0, 144, 148, 233, 329, 363, 389, 448, 566], [1]], ['the inflection points', [28, 43, 53, 78, 88, 100, 111, 137, 164, 187, 196, 199, 257, 274, 298, 326, 335, 345, 367, 383, 405, 420, 423, 427, 430, 436, 454, 461, 517, 522, 528, 531, 538, 549, 554, 559, 579, 582], [9, 44, 48, 165, 200, 445, 482, 492, 550, 575], [10, 45, 49, 515, 551, 576]], ['places', [51, 518, 555, 580]], ['inflection points', [9, 44, 48, 165, 200, 445, 482, 492, 550, 575], [10, 45, 49, 515, 551, 576]], ['the function f', [28, 43, 53, 78, 88, 100, 111, 137, 164, 187, 196, 199, 257, 274, 298, 326, 335, 345, 367, 383, 405, 420, 423, 427, 430, 436, 454, 461, 517, 522, 528, 531, 538, 549, 554, 559, 579, 582], [29, 145, 149], [30]], ['a graph', [12, 19, 23, 59, 227, 295, 416], [13, 20, 25, 79, 89]]]\n"
     ]
    }
   ],
   "source": [
    "finals = list()\n",
    "\n",
    "for i in range(len(results)):\n",
    "    finals.append([results[i]])\n",
    "    result_list = results[i].split()\n",
    "    for j in result_list:\n",
    "        res_list = [k for k, value in enumerate(words) if value == j]\n",
    "        finals[i].append(res_list)\n",
    "        \n",
    "print(finals)"
   ]
  },
  {
   "cell_type": "code",
   "execution_count": 262,
   "metadata": {},
   "outputs": [
    {
     "name": "stdout",
     "output_type": "stream",
     "text": [
      "[['a nice graph'], ['T independent variable T'], ['this video'], ['the inflection points'], ['places'], ['inflection points'], ['the function f'], ['a graph']]\n",
      "[['a nice graph', [1, 0], [1, 0], [1, 1, 1], [1, 0], [1, 0], [1, 0], [1, 0]], ['T independent variable T', [1, 1, 1, 1], [1, 0]], ['this video', [1, 1], [1, 0], [1, 0], [1, 0], [1, 0], [1, 0], [1, 0], [1, 0], [1, 0]], ['the inflection points', [1, 0], [1, 1, 1], [1, 0], [1, 0], [1, 0], [1, 0], [1, 0], [1, 0], [1, 1, 0], [1, 0], [1, 0], [1, 1, 0], [1, 0], [1, 0], [1, 0], [1, 0], [1, 0], [1, 0], [1, 0], [1, 0], [1, 0], [1, 0], [1, 0], [1, 0], [1, 0], [1, 0], [1, 0], [1, 0], [1, 0], [1, 0], [1, 0], [1, 0], [1, 0], [1, 1, 1], [1, 0], [1, 0], [1, 0], [1, 0]], ['places', [1], [1], [1], [1]], ['inflection points', [1, 1], [1, 1], [1, 1], [1, 0], [1, 0], [1, 0], [1, 0], [1, 0], [1, 1], [1, 1]], ['the function f', [1, 1, 1], [1, 0], [1, 0], [1, 0], [1, 0], [1, 0], [1, 0], [1, 0], [1, 0], [1, 0], [1, 0], [1, 0], [1, 0], [1, 0], [1, 0], [1, 0], [1, 0], [1, 0], [1, 0], [1, 0], [1, 0], [1, 0], [1, 0], [1, 0], [1, 0], [1, 0], [1, 0], [1, 0], [1, 0], [1, 0], [1, 0], [1, 0], [1, 0], [1, 0], [1, 0], [1, 0], [1, 0], [1, 0]], ['a graph', [1, 1], [1, 1], [1, 0], [1, 0], [1, 0], [1, 0], [1, 0]]]\n"
     ]
    }
   ],
   "source": [
    "is_straight = list([i[0]] for i in finals)\n",
    "print(is_straight)\n",
    "\n",
    "for i in range(len(finals)):\n",
    "    only_num = finals[i][1:]\n",
    "    for j in range(len(only_num[0])):\n",
    "        is_straight[i].append([1])\n",
    "        for k in range(1, len(only_num)):\n",
    "            if only_num[0][j]+k in only_num[k]:\n",
    "                is_straight[i][j+1].append(1)\n",
    "            else:\n",
    "                is_straight[i][j+1].append(0)\n",
    "                break\n",
    "\n",
    "print(is_straight)"
   ]
  },
  {
   "cell_type": "code",
   "execution_count": 263,
   "metadata": {},
   "outputs": [],
   "source": [
    "def multiple(num_list):\n",
    "    result = 1\n",
    "    for i in num_list:\n",
    "        result *= i\n",
    "    return result"
   ]
  },
  {
   "cell_type": "code",
   "execution_count": 264,
   "metadata": {},
   "outputs": [
    {
     "name": "stdout",
     "output_type": "stream",
     "text": [
      "['a nice graph', 'T independent variable T', 'this video', 'the inflection points', 'places', 'inflection points', 'the function f', 'a graph']\n"
     ]
    }
   ],
   "source": [
    "is_straight_result = dict()\n",
    "keys = list(i[0] for i in is_straight)\n",
    "print(keys)"
   ]
  },
  {
   "cell_type": "code",
   "execution_count": 265,
   "metadata": {},
   "outputs": [
    {
     "name": "stdout",
     "output_type": "stream",
     "text": [
      "[['9.99'], ['11.96'], ['0.54'], ['16.34', '244.5'], ['21.4', '233.33', '246.69', '272.54'], ['3.29', '16.48', '18.81', '244.82', '258.04'], ['11.09'], ['4.71', '9.21']]\n"
     ]
    }
   ],
   "source": [
    "values = list()\n",
    "\n",
    "for i in range(len(is_straight)):\n",
    "    keyword = is_straight[i]\n",
    "    values.append([])\n",
    "    for j in range(len(keyword[1:])):\n",
    "        if multiple(keyword[j+1]):\n",
    "            values[i].append(times[finals[i][1][j]])\n",
    "\n",
    "print(values)"
   ]
  },
  {
   "cell_type": "code",
   "execution_count": 266,
   "metadata": {},
   "outputs": [
    {
     "name": "stdout",
     "output_type": "stream",
     "text": [
      "{'a nice graph': ['9.99'], 'T independent variable T': ['11.96'], 'this video': ['0.54'], 'the inflection points': ['16.34', '244.5'], 'places': ['21.4', '233.33', '246.69', '272.54'], 'inflection points': ['3.29', '16.48', '18.81', '244.82', '258.04'], 'the function f': ['11.09'], 'a graph': ['4.71', '9.21']}\n"
     ]
    }
   ],
   "source": [
    "keyword_time = dict(zip(keys, values))\n",
    "print(keyword_time)"
   ]
  },
  {
   "cell_type": "code",
   "execution_count": 267,
   "metadata": {},
   "outputs": [
    {
     "name": "stdout",
     "output_type": "stream",
     "text": [
      "{\"a nice graph\": [\"9.99\"], \"T independent variable T\": [\"11.96\"], \"this video\": [\"0.54\"], \"the inflection points\": [\"16.34\", \"244.5\"], \"places\": [\"21.4\", \"233.33\", \"246.69\", \"272.54\"], \"inflection points\": [\"3.29\", \"16.48\", \"18.81\", \"244.82\", \"258.04\"], \"the function f\": [\"11.09\"], \"a graph\": [\"4.71\", \"9.21\"]}\n"
     ]
    }
   ],
   "source": [
    "import json\n",
    "json_val = json.dumps(keyword_time)\n",
    "print(json_val)"
   ]
  },
  {
   "cell_type": "code",
   "execution_count": null,
   "metadata": {},
   "outputs": [],
   "source": []
  }
 ],
 "metadata": {
  "kernelspec": {
   "display_name": "Python 3",
   "language": "python",
   "name": "python3"
  },
  "language_info": {
   "codemirror_mode": {
    "name": "ipython",
    "version": 3
   },
   "file_extension": ".py",
   "mimetype": "text/x-python",
   "name": "python",
   "nbconvert_exporter": "python",
   "pygments_lexer": "ipython3",
   "version": "3.8.5"
  }
 },
 "nbformat": 4,
 "nbformat_minor": 4
}
